{
 "cells": [
  {
   "cell_type": "markdown",
   "metadata": {},
   "source": [
    "## Setup & Importing packages "
   ]
  },
  {
   "cell_type": "code",
   "execution_count": 31,
   "metadata": {},
   "outputs": [],
   "source": [
    "# Importing required libraries\n",
    "\n",
    "from langchain.text_splitter import RecursiveCharacterTextSplitter\n",
    "from langchain.document_loaders import PyPDFDirectoryLoader\n",
    "from langchain_openai import OpenAIEmbeddings\n",
    "from langchain.vectorstores import Pinecone\n",
    "from langchain_pinecone import PineconeVectorStore\n",
    "from langchain.llms import OpenAI\n",
    "from dotenv import load_dotenv\n",
    "import langchain\n",
    "import pinecone\n",
    "import openai\n",
    "import os"
   ]
  },
  {
   "cell_type": "code",
   "execution_count": 21,
   "metadata": {},
   "outputs": [
    {
     "data": {
      "text/plain": [
       "True"
      ]
     },
     "execution_count": 21,
     "metadata": {},
     "output_type": "execute_result"
    }
   ],
   "source": [
    "# Importing the required keys from our .env file\n",
    "load_dotenv()"
   ]
  },
  {
   "cell_type": "markdown",
   "metadata": {},
   "source": [
    "## Reading the PDF\n",
    "Using the PyPDFDirectoryLoader"
   ]
  },
  {
   "cell_type": "code",
   "execution_count": 6,
   "metadata": {},
   "outputs": [],
   "source": [
    "# Defining the function to read the PDF from our directory using the PyPDFDirectoryLoader package\n",
    "def read_doc(directory):\n",
    "    file_loader=PyPDFDirectoryLoader(directory)\n",
    "    documents=file_loader.load()\n",
    "    return documents"
   ]
  },
  {
   "cell_type": "code",
   "execution_count": 7,
   "metadata": {},
   "outputs": [
    {
     "data": {
      "text/plain": [
       "32"
      ]
     },
     "execution_count": 7,
     "metadata": {},
     "output_type": "execute_result"
    }
   ],
   "source": [
    "doc=read_doc('documents/')\n",
    "len(doc)"
   ]
  },
  {
   "cell_type": "markdown",
   "metadata": {},
   "source": [
    "## Dividing the PDF into Text Chunks\n",
    "Using the RecursiveCharacterTextSplitter"
   ]
  },
  {
   "cell_type": "code",
   "execution_count": 9,
   "metadata": {},
   "outputs": [],
   "source": [
    "## Now, we will divide the pdfs that we read into text chunks\n",
    "def chunk_data(docs,chunk_size=800,chunk_overlap=50):\n",
    "    text_splitter=RecursiveCharacterTextSplitter(chunk_size=chunk_size,chunk_overlap=chunk_overlap)\n",
    "    doc=text_splitter.split_documents(docs)\n",
    "    return docs"
   ]
  },
  {
   "cell_type": "code",
   "execution_count": 10,
   "metadata": {},
   "outputs": [
    {
     "data": {
      "text/plain": [
       "32"
      ]
     },
     "execution_count": 10,
     "metadata": {},
     "output_type": "execute_result"
    }
   ],
   "source": [
    "documents=chunk_data(docs=doc)\n",
    "len(documents)"
   ]
  },
  {
   "cell_type": "markdown",
   "metadata": {},
   "source": [
    "## Adding OpenAI Embeddings to text chunks"
   ]
  },
  {
   "cell_type": "code",
   "execution_count": 17,
   "metadata": {},
   "outputs": [
    {
     "data": {
      "text/plain": [
       "OpenAIEmbeddings(client=<openai.resources.embeddings.Embeddings object at 0x12752eb10>, async_client=<openai.resources.embeddings.AsyncEmbeddings object at 0x12ee606d0>, model='text-embedding-ada-002', dimensions=None, deployment='text-embedding-ada-002', openai_api_version='', openai_api_base=None, openai_api_type='', openai_proxy='', embedding_ctx_length=8191, openai_api_key=SecretStr('**********'), openai_organization=None, allowed_special=set(), disallowed_special='all', chunk_size=1000, max_retries=2, request_timeout=None, headers=None, tiktoken_enabled=True, tiktoken_model_name=None, show_progress_bar=False, model_kwargs={}, skip_empty=False, default_headers=None, default_query=None, retry_min_seconds=4, retry_max_seconds=20, http_client=None, http_async_client=None)"
      ]
     },
     "execution_count": 17,
     "metadata": {},
     "output_type": "execute_result"
    }
   ],
   "source": [
    "# Adding the Open AI API Key to use OpenAI Embeddings\n",
    "embeddings=OpenAIEmbeddings(api_key=os.environ['OPENAI_API_KEY'])\n",
    "embeddings"
   ]
  },
  {
   "cell_type": "code",
   "execution_count": 18,
   "metadata": {},
   "outputs": [
    {
     "data": {
      "text/plain": [
       "1536"
      ]
     },
     "execution_count": 18,
     "metadata": {},
     "output_type": "execute_result"
    }
   ],
   "source": [
    "vectors=embeddings.embed_query(\"How are you?\")\n",
    "len(vectors)"
   ]
  },
  {
   "cell_type": "markdown",
   "metadata": {},
   "source": [
    "## Initialize Pinecone"
   ]
  },
  {
   "cell_type": "code",
   "execution_count": 62,
   "metadata": {},
   "outputs": [],
   "source": [
    "import os\n",
    "from pinecone import Pinecone as pc\n",
    "\n",
    "# Create a Pinecone instance\n",
    "pc = Pinecone(\n",
    "    api_key=os.environ.get(\"PINECONE_API_KEY\")\n",
    ")\n",
    "\n",
    "index = pc.Index(\"langchainvector\")"
   ]
  },
  {
   "cell_type": "code",
   "execution_count": 66,
   "metadata": {},
   "outputs": [],
   "source": [
    "index=PineconeVectorStore.from_documents(doc,embeddings,index_name=index_name)"
   ]
  },
  {
   "cell_type": "markdown",
   "metadata": {},
   "source": [
    "## Apply Similarity Search for Document Retrieval (Cosine Similarity)"
   ]
  },
  {
   "cell_type": "code",
   "execution_count": 68,
   "metadata": {},
   "outputs": [],
   "source": [
    "## Cosine Similarity Retreive Results from VectorDB\n",
    "def retrieve_query(query,k=2):\n",
    "    matching_results=index.similarity_search(query,k=k)\n",
    "    return matching_results"
   ]
  },
  {
   "cell_type": "code",
   "execution_count": 69,
   "metadata": {},
   "outputs": [],
   "source": [
    "from langchain.chains.question_answering import load_qa_chain\n",
    "from langchain import OpenAI"
   ]
  },
  {
   "cell_type": "markdown",
   "metadata": {},
   "source": [
    "## Select Open AI model GPT-3.5-Turbo"
   ]
  },
  {
   "cell_type": "code",
   "execution_count": 73,
   "metadata": {},
   "outputs": [],
   "source": [
    "llm=OpenAI(model_name=\"gpt-3.5-turbo-instruct\",temperature=0.5)\n",
    "chain=load_qa_chain(llm,chain_type=\"stuff\")"
   ]
  },
  {
   "cell_type": "markdown",
   "metadata": {},
   "source": [
    "## Perform Search (User)"
   ]
  },
  {
   "cell_type": "code",
   "execution_count": 74,
   "metadata": {},
   "outputs": [],
   "source": [
    "## Search answers from VectorDB\n",
    "def retrieve_answers(query):\n",
    "    doc_search=retrieve_query(query)\n",
    "    print(doc_search)\n",
    "    response=chain.run(input_documents=doc_search,question=query)\n",
    "    return response\n"
   ]
  },
  {
   "cell_type": "code",
   "execution_count": 77,
   "metadata": {},
   "outputs": [
    {
     "name": "stdout",
     "output_type": "stream",
     "text": [
      "[Document(page_content='28 \\n rupees ( ₹ 10,000 ) for financial years 2010 -11 to 2014 -15. This is \\nexpected to benefit about a crore tax-payers.  \\nEconomy – Then and Now  \\n94. In 2014 when our Government assumed the reins, the \\nresponsibility to mend the economy step by step and to put the \\ngovernance systems in order was enormous. The need of the \\nhour was to give hope to the people, to attract investments, and \\nto build support for the much -needed reforms. The Government \\ndid that successfully following our strong belief of ‘nation -first’.   \\n95. The crisis of those years has been overcome, and the \\neconomy has been put firmly on a high sustainable growth path \\nwith all -round development. It is now appropri ate to look at \\nwhere we were then till 2014 and where we are now, only for \\nthe purpose of drawing lessons from the mismanagement of \\nthose years. The Government will lay a White Paper on table of \\nthe House.  \\n96. The exemplary track record of governance, develop ment \\nand performance , effective delivery , and ‘Jan Kalyan ’ has given \\nthe Government trust, confidence and blessings of the people to \\nrealize, whatever it takes, the goal of ‘Viksit Bharat’ with good \\nintentions, true dedication and hard work in the coming y ears \\nand decades .   \\n97. With this, I commend the interim budget to this august \\nHouse.  \\nJai Hind.  ', metadata={'page': 31.0, 'source': 'documents/budget_speech_2024.pdf'}), Document(page_content='23 \\n growth.  This has been possible through our right policies, true \\nintentions, and appropriate decisions. In the full budget in July, \\nour Government will present a detailed roadmap for our pursuit \\nof ‘Viksit Bharat’ .  \\nRevised Estimates 2023 -24 \\n79. The Revised Estimate of the total receipts other than \\nborrowings is ` 27.56  lakh crore, of which the tax receipts are  \\n` 23.24  lakh crore. The Revised Estimate of the total expenditure \\nis ` 44.90  lakh crore.      \\n80. The revenue receipts at ` 30.03  lakh crore are expected to \\nbe higher than the Budget Estimate, reflecting strong growth \\nmomentum and formalization in the economy.  \\n81. The R evised Estimate of the fiscal deficit is 5.8 per cent of \\nGDP, improving on the Budget Estimate, notwithstanding \\nmoderation in the nominal growth estimates.        \\nBudget Estimates 2024 -25 \\n82. Coming to 2024 -25, the total receipts other than \\nborrowings and the total expenditure are estimated at ` 30.80  \\nand 47.66  lakh crore respectively. The tax receipts are estimated \\nat ` 26.02  lakh crore.     \\n83. The scheme of fifty-year interest free loan for capital \\nexpenditure to states will be continued this year with total out lay \\nof  ` 1.3 lakh crore.   ', metadata={'page': 26.0, 'source': 'documents/budget_speech_2024.pdf'})]\n",
      " \n",
      "1. The government has successfully overcome the economic crisis and put the economy on a high sustainable growth path.\n",
      "2. The Revised Estimate for 2023-24 shows a higher revenue receipt and a lower fiscal deficit, indicating a strong growth momentum and formalization in the economy.\n",
      "3. The budget for 2024-25 includes a continuation of the fifty-year interest free loan for capital expenditure to states, with a total outlay of 1.3 lakh crore.\n"
     ]
    }
   ],
   "source": [
    "our_query = \"Give me the top 3 takaways from the budget\"\n",
    "answer = retrieve_answers(our_query)\n",
    "print(answer)"
   ]
  }
 ],
 "metadata": {
  "kernelspec": {
   "display_name": "Python 3",
   "language": "python",
   "name": "python3"
  },
  "language_info": {
   "codemirror_mode": {
    "name": "ipython",
    "version": 3
   },
   "file_extension": ".py",
   "mimetype": "text/x-python",
   "name": "python",
   "nbconvert_exporter": "python",
   "pygments_lexer": "ipython3",
   "version": "3.11.8"
  }
 },
 "nbformat": 4,
 "nbformat_minor": 2
}
