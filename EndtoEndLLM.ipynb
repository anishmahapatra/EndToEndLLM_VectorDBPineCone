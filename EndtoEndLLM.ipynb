{
 "cells": [
  {
   "cell_type": "markdown",
   "metadata": {},
   "source": [
    "## Setup & Importing packages "
   ]
  },
  {
   "cell_type": "code",
   "execution_count": 31,
   "metadata": {},
   "outputs": [],
   "source": [
    "# Importing required libraries\n",
    "\n",
    "from langchain.text_splitter import RecursiveCharacterTextSplitter\n",
    "from langchain.document_loaders import PyPDFDirectoryLoader\n",
    "from langchain_openai import OpenAIEmbeddings\n",
    "from langchain.vectorstores import Pinecone\n",
    "from langchain_pinecone import PineconeVectorStore\n",
    "from langchain.llms import OpenAI\n",
    "from dotenv import load_dotenv\n",
    "import langchain\n",
    "import pinecone\n",
    "import openai\n",
    "import os"
   ]
  },
  {
   "cell_type": "code",
   "execution_count": 21,
   "metadata": {},
   "outputs": [
    {
     "data": {
      "text/plain": [
       "True"
      ]
     },
     "execution_count": 21,
     "metadata": {},
     "output_type": "execute_result"
    }
   ],
   "source": [
    "# Importing the required keys from our .env file\n",
    "load_dotenv()"
   ]
  },
  {
   "cell_type": "markdown",
   "metadata": {},
   "source": [
    "## Reading the PDF\n",
    "Using the PyPDFDirectoryLoader"
   ]
  },
  {
   "cell_type": "code",
   "execution_count": 6,
   "metadata": {},
   "outputs": [],
   "source": [
    "# Defining the function to read the PDF from our directory using the PyPDFDirectoryLoader package\n",
    "def read_doc(directory):\n",
    "    file_loader=PyPDFDirectoryLoader(directory)\n",
    "    documents=file_loader.load()\n",
    "    return documents"
   ]
  },
  {
   "cell_type": "code",
   "execution_count": 7,
   "metadata": {},
   "outputs": [
    {
     "data": {
      "text/plain": [
       "32"
      ]
     },
     "execution_count": 7,
     "metadata": {},
     "output_type": "execute_result"
    }
   ],
   "source": [
    "doc=read_doc('documents/')\n",
    "len(doc)"
   ]
  },
  {
   "cell_type": "markdown",
   "metadata": {},
   "source": [
    "## Dividing the PDF into Text Chunks\n",
    "Using the RecursiveCharacterTextSplitter"
   ]
  },
  {
   "cell_type": "code",
   "execution_count": 9,
   "metadata": {},
   "outputs": [],
   "source": [
    "## Now, we will divide the pdfs that we read into text chunks\n",
    "def chunk_data(docs,chunk_size=800,chunk_overlap=50):\n",
    "    text_splitter=RecursiveCharacterTextSplitter(chunk_size=chunk_size,chunk_overlap=chunk_overlap)\n",
    "    doc=text_splitter.split_documents(docs)\n",
    "    return docs"
   ]
  },
  {
   "cell_type": "code",
   "execution_count": 10,
   "metadata": {},
   "outputs": [
    {
     "data": {
      "text/plain": [
       "32"
      ]
     },
     "execution_count": 10,
     "metadata": {},
     "output_type": "execute_result"
    }
   ],
   "source": [
    "documents=chunk_data(docs=doc)\n",
    "len(documents)"
   ]
  },
  {
   "cell_type": "markdown",
   "metadata": {},
   "source": [
    "## Adding OpenAI Embeddings to text chunks"
   ]
  },
  {
   "cell_type": "code",
   "execution_count": 17,
   "metadata": {},
   "outputs": [
    {
     "data": {
      "text/plain": [
       "OpenAIEmbeddings(client=<openai.resources.embeddings.Embeddings object at 0x12752eb10>, async_client=<openai.resources.embeddings.AsyncEmbeddings object at 0x12ee606d0>, model='text-embedding-ada-002', dimensions=None, deployment='text-embedding-ada-002', openai_api_version='', openai_api_base=None, openai_api_type='', openai_proxy='', embedding_ctx_length=8191, openai_api_key=SecretStr('**********'), openai_organization=None, allowed_special=set(), disallowed_special='all', chunk_size=1000, max_retries=2, request_timeout=None, headers=None, tiktoken_enabled=True, tiktoken_model_name=None, show_progress_bar=False, model_kwargs={}, skip_empty=False, default_headers=None, default_query=None, retry_min_seconds=4, retry_max_seconds=20, http_client=None, http_async_client=None)"
      ]
     },
     "execution_count": 17,
     "metadata": {},
     "output_type": "execute_result"
    }
   ],
   "source": [
    "# Adding the Open AI API Key to use OpenAI Embeddings\n",
    "embeddings=OpenAIEmbeddings(api_key=os.environ['OPENAI_API_KEY'])\n",
    "embeddings"
   ]
  },
  {
   "cell_type": "code",
   "execution_count": 18,
   "metadata": {},
   "outputs": [
    {
     "data": {
      "text/plain": [
       "1536"
      ]
     },
     "execution_count": 18,
     "metadata": {},
     "output_type": "execute_result"
    }
   ],
   "source": [
    "vectors=embeddings.embed_query(\"How are you?\")\n",
    "len(vectors)"
   ]
  },
  {
   "cell_type": "markdown",
   "metadata": {},
   "source": [
    "## Initialize Pinecone"
   ]
  },
  {
   "cell_type": "code",
   "execution_count": 62,
   "metadata": {},
   "outputs": [],
   "source": [
    "import os\n",
    "from pinecone import Pinecone as pc\n",
    "\n",
    "# Create a Pinecone instance\n",
    "pc = Pinecone(\n",
    "    api_key=os.environ.get(\"PINECONE_API_KEY\")\n",
    ")\n",
    "\n",
    "index = pc.Index(\"langchainvector\")"
   ]
  },
  {
   "cell_type": "code",
   "execution_count": 66,
   "metadata": {},
   "outputs": [],
   "source": [
    "index=PineconeVectorStore.from_documents(doc,embeddings,index_name=index_name)"
   ]
  },
  {
   "cell_type": "markdown",
   "metadata": {},
   "source": [
    "## Apply Similarity Search for Document Retrieval (Cosine Similarity)"
   ]
  },
  {
   "cell_type": "code",
   "execution_count": 68,
   "metadata": {},
   "outputs": [],
   "source": [
    "## Cosine Similarity Retreive Results from VectorDB\n",
    "def retrieve_query(query,k=2):\n",
    "    matching_results=index.similarity_search(query,k=k)\n",
    "    return matching_results"
   ]
  },
  {
   "cell_type": "code",
   "execution_count": 69,
   "metadata": {},
   "outputs": [],
   "source": [
    "from langchain.chains.question_answering import load_qa_chain\n",
    "from langchain import OpenAI"
   ]
  },
  {
   "cell_type": "markdown",
   "metadata": {},
   "source": [
    "## Select Open AI model GPT-3.5-Turbo"
   ]
  },
  {
   "cell_type": "code",
   "execution_count": 73,
   "metadata": {},
   "outputs": [],
   "source": [
    "llm=OpenAI(model_name=\"gpt-3.5-turbo-instruct\",temperature=0.5)\n",
    "chain=load_qa_chain(llm,chain_type=\"stuff\")"
   ]
  },
  {
   "cell_type": "markdown",
   "metadata": {},
   "source": [
    "## Perform Search"
   ]
  },
  {
   "cell_type": "code",
   "execution_count": 74,
   "metadata": {},
   "outputs": [],
   "source": [
    "## Search answers from VectorDB\n",
    "def retrieve_answers(query):\n",
    "    doc_search=retrieve_query(query)\n",
    "    print(doc_search)\n",
    "    response=chain.run(input_documents=doc_search,question=query)\n",
    "    return response\n"
   ]
  },
  {
   "cell_type": "code",
   "execution_count": 75,
   "metadata": {},
   "outputs": [
    {
     "name": "stdout",
     "output_type": "stream",
     "text": [
      "[Document(page_content='16 \\n doubled.  Implementation of Pradhan Mantri Matsya Sampada \\nYojana (PMMSY) will be stepped up to:  \\n(1) enhance aquaculture productivity from existing 3 to  \\n5 tons per hectare,  \\n(2) double exports to ` 1 lakh crore and  \\n(3) generate  55 lakh employment opportunities in near \\nfuture.  \\nFive integrated aquaparks will be setup.  \\nLakhpati Didi  \\n56. Eighty -three lakh SHGs  with nine crore women are \\ntransforming rural socio -economic landscape with \\nempowerment and self -reliance. Their success has as sisted \\nnearly one crore women to become Lakhpati Didi already. They \\nare an inspiration to others. Their achievements will be \\nrecognized through honouring them. Buoyed by the success, it \\nhas been decided to enhance the target for Lakhpati Didi from  \\n2 crore to 3 crore.  \\nTechnological Changes  \\n57. New age technologies  and data  are changing the lives of \\npeople and businesses. The y are also enabling new economic \\nopportunities and facilitating provision of high -quality services at \\naffordable prices for all, inc luding those at ‘bottom of the \\npyramid’. Opportunities for India at the global level are ', metadata={'page': 19.0, 'source': 'documents/budget_speech_2024.pdf'}), Document(page_content='17 \\n expanding. India is showing solutions through innovation and \\nentrepreneurship of its people.  \\nResearch and Innovation for catalyzing growth, employment \\nand development  \\n58. Prime Minister Shastri gave the slogan of “Jai Jawan Jai \\nKisan”. Prime Minister Vajpayee made that “Jai Jawan Jai Kisan \\nJai Vigyan”. Prime Minister Modi has furthered that to “Jai \\nJawan Jai Kisan Jai Vigyan and Jai Anusandhan” , as innovation is \\nthe founda tion of development.  \\n59. For our tech savvy youth, this will be a golden era.  \\nA corpus of rupees  one lakh crore will be established with  \\nfifty-year interest free loan . The corpus will provide long -term \\nfinancing or refinancing with long tenors and low or nil interest \\nrates. This will encourage the private sector  to scale up research \\nand innovation significantly in sunrise domains. We need to have \\nprogrammes that combin e the powers of our youth and \\ntechnology.  \\n60. A new scheme will be launched for strengthening  \\ndeep -tech technologies for defence purposes and expediting \\n‘atmanirbharta’ .    \\nInfrastructure Development  \\n61. Building on the massive tripling of the capital expenditure  \\noutlay in the past 4 years resulting in huge multiplier impact on \\neconomic growth and employment creation, the outlay for the \\nnext year is being increased by 11.1 per cent to eleven lakh, ', metadata={'page': 20.0, 'source': 'documents/budget_speech_2024.pdf'})]\n",
      " The agriculture target will be increased by 2 crore.\n"
     ]
    }
   ],
   "source": [
    "our_query = \"How much the agriculture target will be increased by how many crore?\"\n",
    "answer = retrieve_answers(our_query)\n",
    "print(answer)"
   ]
  }
 ],
 "metadata": {
  "kernelspec": {
   "display_name": "Python 3",
   "language": "python",
   "name": "python3"
  },
  "language_info": {
   "codemirror_mode": {
    "name": "ipython",
    "version": 3
   },
   "file_extension": ".py",
   "mimetype": "text/x-python",
   "name": "python",
   "nbconvert_exporter": "python",
   "pygments_lexer": "ipython3",
   "version": "3.11.8"
  }
 },
 "nbformat": 4,
 "nbformat_minor": 2
}
